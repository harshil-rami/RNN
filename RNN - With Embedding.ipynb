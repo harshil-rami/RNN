{
 "cells": [
  {
   "cell_type": "code",
   "execution_count": 1,
   "id": "ee9cd048",
   "metadata": {},
   "outputs": [],
   "source": [
    "from tensorflow.keras.datasets import imdb\n",
    "from tensorflow.keras.preprocessing.text import Tokenizer\n",
    "from tensorflow.keras.preprocessing.sequence import pad_sequences\n",
    "from tensorflow.keras.models import Sequential\n",
    "from tensorflow.keras.layers import SimpleRNN, Dense, Embedding, Flatten"
   ]
  },
  {
   "cell_type": "code",
   "execution_count": 2,
   "id": "48e9ac29",
   "metadata": {},
   "outputs": [],
   "source": [
    "(X_train,y_train), (X_test,y_test) = imdb.load_data()"
   ]
  },
  {
   "cell_type": "code",
   "execution_count": 3,
   "id": "cd6611fb",
   "metadata": {},
   "outputs": [],
   "source": [
    "X_train = pad_sequences(X_train, padding='post', maxlen=50)\n",
    "X_test = pad_sequences(X_test, padding='post', maxlen=50)"
   ]
  },
  {
   "cell_type": "code",
   "execution_count": 4,
   "id": "b3842885",
   "metadata": {},
   "outputs": [
    {
     "data": {
      "text/plain": [
       "((25000, 50), (25000, 50))"
      ]
     },
     "execution_count": 4,
     "metadata": {},
     "output_type": "execute_result"
    }
   ],
   "source": [
    "X_train.shape, X_test.shape"
   ]
  },
  {
   "cell_type": "code",
   "execution_count": 29,
   "id": "8be49c4a",
   "metadata": {},
   "outputs": [],
   "source": [
    "model = Sequential()\n",
    "model.add(Embedding(1000000, 2, input_length=50))\n",
    "model.add(SimpleRNN(32, return_sequences=False))\n",
    "model.add(Dense(1, activation='sigmoid'))"
   ]
  },
  {
   "cell_type": "code",
   "execution_count": 30,
   "id": "4929cce7",
   "metadata": {},
   "outputs": [
    {
     "name": "stdout",
     "output_type": "stream",
     "text": [
      "Model: \"sequential_7\"\n",
      "_________________________________________________________________\n",
      " Layer (type)                Output Shape              Param #   \n",
      "=================================================================\n",
      " embedding_7 (Embedding)     (None, 50, 2)             2000000   \n",
      "                                                                 \n",
      " simple_rnn_6 (SimpleRNN)    (None, 32)                1120      \n",
      "                                                                 \n",
      " dense_6 (Dense)             (None, 1)                 33        \n",
      "                                                                 \n",
      "=================================================================\n",
      "Total params: 2001153 (7.63 MB)\n",
      "Trainable params: 2001153 (7.63 MB)\n",
      "Non-trainable params: 0 (0.00 Byte)\n",
      "_________________________________________________________________\n"
     ]
    }
   ],
   "source": [
    "model.summary()"
   ]
  },
  {
   "cell_type": "code",
   "execution_count": 31,
   "id": "6ccd8570",
   "metadata": {},
   "outputs": [
    {
     "name": "stdout",
     "output_type": "stream",
     "text": [
      "Epoch 1/5\n",
      "782/782 [==============================] - 22s 26ms/step - loss: 0.6535 - acc: 0.5845\n",
      "Epoch 2/5\n",
      "782/782 [==============================] - 22s 28ms/step - loss: 0.4092 - acc: 0.8159\n",
      "Epoch 3/5\n",
      "782/782 [==============================] - 24s 30ms/step - loss: 0.2679 - acc: 0.8956\n",
      "Epoch 4/5\n",
      "782/782 [==============================] - 23s 29ms/step - loss: 0.1876 - acc: 0.9324\n",
      "Epoch 5/5\n",
      "782/782 [==============================] - 20s 26ms/step - loss: 0.1347 - acc: 0.9546\n"
     ]
    },
    {
     "data": {
      "text/plain": [
       "<keras.src.callbacks.History at 0x21145747c40>"
      ]
     },
     "execution_count": 31,
     "metadata": {},
     "output_type": "execute_result"
    }
   ],
   "source": [
    "model.compile(loss='binary_crossentropy',optimizer='adam',metrics=['acc'])\n",
    "\n",
    "model.fit(X_train,y_train,epochs=5)"
   ]
  },
  {
   "cell_type": "markdown",
   "id": "94d98cb5",
   "metadata": {},
   "source": [
    "as we can see we are able to get 95% accuracy with embeddings. Embeddings are good at capturing important essence from the text data and it can understand emantics meaning very well."
   ]
  },
  {
   "cell_type": "code",
   "execution_count": 32,
   "id": "03cf70db",
   "metadata": {},
   "outputs": [
    {
     "name": "stdout",
     "output_type": "stream",
     "text": [
      "782/782 [==============================] - 1s 2ms/step - loss: 0.5925 - acc: 0.7554\n"
     ]
    },
    {
     "data": {
      "text/plain": [
       "[0.5924690365791321, 0.7554000020027161]"
      ]
     },
     "execution_count": 32,
     "metadata": {},
     "output_type": "execute_result"
    }
   ],
   "source": [
    "model.evaluate(X_test, y_test)"
   ]
  },
  {
   "cell_type": "markdown",
   "id": "816be653",
   "metadata": {},
   "source": [
    "We are seeing the case of overfitting here."
   ]
  },
  {
   "cell_type": "code",
   "execution_count": null,
   "id": "4899c2f9",
   "metadata": {},
   "outputs": [],
   "source": []
  }
 ],
 "metadata": {
  "kernelspec": {
   "display_name": "GPUEnv",
   "language": "python",
   "name": "gpuenv"
  },
  "language_info": {
   "codemirror_mode": {
    "name": "ipython",
    "version": 3
   },
   "file_extension": ".py",
   "mimetype": "text/x-python",
   "name": "python",
   "nbconvert_exporter": "python",
   "pygments_lexer": "ipython3",
   "version": "3.9.5"
  }
 },
 "nbformat": 4,
 "nbformat_minor": 5
}
